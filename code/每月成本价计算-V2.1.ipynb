{
 "cells": [
  {
   "cell_type": "code",
   "execution_count": 27,
   "metadata": {
    "ExecuteTime": {
     "end_time": "2021-08-16T19:12:23.925053Z",
     "start_time": "2021-08-16T19:12:16.182914Z"
    }
   },
   "outputs": [],
   "source": [
    "import os\n",
    "import numpy as np\n",
    "import pandas as pd\n",
    "import psycopg2\n",
    "from sqlalchemy import create_engine\n",
    "\n",
    "\"\"\"\n",
    "本代码通过技术科提供基准介对应的图号,并将该图号BOM录入SageX3-ERP中，\n",
    "对应ERP的采购入库材料价格,获得该BOM的材料及其物料价格。\n",
    "1。 输入\n",
    "1.1 BOM清单\n",
    "1.2 物料替代清单\n",
    "1.3 最新物料入库价格表\n",
    "1.4 读取所有图号的BOM集合\n",
    "\"\"\"\n",
    "\n",
    "# 一. 读取所有数据输入源\n",
    "path = r\"J:\\python_code\\cost_estimate\\src\\核价工具11.0\\\\\"\n",
    "file_material = r\"最新入库价(7).xlsx\"\n",
    "file_material_matched = r\"对照表.xlsx\"\n",
    "file_BOM_drawing = r\"所有图号清单.xlsx\"\n",
    "file_BOM_Replace = r\"材料替代清单.xlsx\"\n",
    "file_BOM_All = r\"所有图号BOM清单.xlsx\"\n",
    "\n",
    "# 1. 读入最新物料价格\n",
    "\n",
    "material = pd.read_excel(path+file_material,\n",
    "                            sheet_name=\"Sheet1\"\n",
    "                            # ,engine=\"openpyxl\"\n",
    "                            )\n",
    "# print(material)\n",
    "\n",
    "# 2. 读入对照表,作用是区别主材与其他材料\n",
    "material_matched = pd.read_excel(path+file_material_matched,\n",
    "                   sheet_name=\"Sheet2\"\n",
    "                #    ,engine=\"openpyxl\"\n",
    "                   )\n",
    "material_matched.drop_duplicates(subset=[\"替代物料识别辅助列\"], keep='first', inplace=True)\n",
    "\n",
    "# 3 读入技术科提供的图号清单\n",
    "BOM_drawing = pd.read_excel(path+file_BOM_drawing,\n",
    "                            sheet_name=\"Sheet1\"\n",
    "                            # ,engine=\"openpyxl\"\n",
    "                            )\n",
    "\n",
    "# 4 读取物料替代清单<材料替代清单.xlsx>\n",
    "BOM_Replace = pd.read_excel(path+file_BOM_Replace,\n",
    "                            sheet_name=\"Sheet1\"\n",
    "                            # ,engine=\"openpyxl\"\n",
    "                            )\n",
    "\n",
    "# 1.3 读取PG库中所有图号的BOM清单并改列名\n",
    "BOM_All = pd.read_excel(path+file_BOM_All,\n",
    "                            sheet_name=\"Sheet1\"\n",
    "                            # ,engine=\"openpyxl\"\n",
    "                            )"
   ]
  },
  {
   "cell_type": "code",
   "execution_count": 28,
   "metadata": {
    "ExecuteTime": {
     "end_time": "2021-08-16T19:12:24.066979Z",
     "start_time": "2021-08-16T19:12:24.054130Z"
    }
   },
   "outputs": [],
   "source": [
    "BOM_All = BOM_All.iloc[:,1:]"
   ]
  },
  {
   "cell_type": "code",
   "execution_count": 29,
   "metadata": {
    "ExecuteTime": {
     "end_time": "2021-08-16T19:12:24.207470Z",
     "start_time": "2021-08-16T19:12:24.193501Z"
    }
   },
   "outputs": [],
   "source": [
    "col_1 = BOM_All[1:].columns.tolist()"
   ]
  },
  {
   "cell_type": "code",
   "execution_count": 30,
   "metadata": {
    "ExecuteTime": {
     "end_time": "2021-08-16T19:12:24.443904Z",
     "start_time": "2021-08-16T19:12:24.432925Z"
    }
   },
   "outputs": [
    {
     "name": "stdout",
     "output_type": "stream",
     "text": [
      "['zstofcy_0', 'itmdes1_0', 'itmdes2_0', 'cpnitmref_0', 'sub_itmdes1_0', 'sub_itmdes2_0', 'likqty_0', 'sub_stu_0', 'credat_0', 'stu_0', 'puustucoe_0', 'puu_0']\n"
     ]
    }
   ],
   "source": [
    "print(col_1)"
   ]
  },
  {
   "cell_type": "code",
   "execution_count": 31,
   "metadata": {
    "ExecuteTime": {
     "end_time": "2021-08-16T19:12:33.014290Z",
     "start_time": "2021-08-16T19:12:33.001326Z"
    }
   },
   "outputs": [],
   "source": [
    "col_2 = [\"地点\",\"图号编码\",\"图号名称\",\"图号\",\"材料编码\",\"材料名称\",\"材料代号\",\"库存数量\",\"库存单位\",\"创建日期\",\"单位\",\"采购数量\",\"采购单位\"]\n",
    "# 组成字典,用于改列名\n",
    "col_name =  dict(zip(col_1, col_2))"
   ]
  },
  {
   "cell_type": "code",
   "execution_count": 26,
   "metadata": {
    "ExecuteTime": {
     "end_time": "2021-08-16T19:12:07.360267Z",
     "start_time": "2021-08-16T19:12:07.351250Z"
    }
   },
   "outputs": [
    {
     "name": "stdout",
     "output_type": "stream",
     "text": [
      "{'图号编码': '图号编码', '地点': '地点', '图号名称': '图号名称', '图号': '图号', '材料编码': '材料编码', '材料名称': '材料名称', '材料代号': '材料代号', '库存数量': '库存数量', '库存单位': '库存单位', '创建日期': '创建日期', '单位': '单位'}\n"
     ]
    }
   ],
   "source": [
    "print(col_name)"
   ]
  },
  {
   "cell_type": "code",
   "execution_count": 10,
   "metadata": {
    "ExecuteTime": {
     "end_time": "2021-08-16T18:45:20.054844Z",
     "start_time": "2021-08-16T18:45:20.044873Z"
    }
   },
   "outputs": [],
   "source": [
    "BOM_All.rename(columns= col_name,inplace=True)"
   ]
  },
  {
   "cell_type": "code",
   "execution_count": 19,
   "metadata": {
    "ExecuteTime": {
     "end_time": "2021-08-16T19:00:30.411726Z",
     "start_time": "2021-08-16T19:00:30.387792Z"
    }
   },
   "outputs": [],
   "source": [
    "tmp = BOM_All.copy()\n",
    "\n",
    "tmp[\"校准前\"] = tmp[\"材料名称\"].astype(str) + tmp[\"材料代号\"].astype(str)\n",
    "# set(tmp[\"材料名称\"])"
   ]
  },
  {
   "cell_type": "code",
   "execution_count": null,
   "metadata": {},
   "outputs": [],
   "source": []
  },
  {
   "cell_type": "code",
   "execution_count": null,
   "metadata": {},
   "outputs": [],
   "source": []
  },
  {
   "cell_type": "code",
   "execution_count": null,
   "metadata": {},
   "outputs": [],
   "source": []
  },
  {
   "cell_type": "code",
   "execution_count": null,
   "metadata": {},
   "outputs": [],
   "source": []
  }
 ],
 "metadata": {
  "jupytext": {
   "formats": "ipynb,auto:light"
  },
  "kernelspec": {
   "display_name": "Python 3",
   "language": "python",
   "name": "python3"
  },
  "language_info": {
   "codemirror_mode": {
    "name": "ipython",
    "version": 3
   },
   "file_extension": ".py",
   "mimetype": "text/x-python",
   "name": "python",
   "nbconvert_exporter": "python",
   "pygments_lexer": "ipython3",
   "version": "3.6.4"
  },
  "toc": {
   "base_numbering": 1,
   "nav_menu": {},
   "number_sections": true,
   "sideBar": true,
   "skip_h1_title": false,
   "title_cell": "Table of Contents",
   "title_sidebar": "Contents",
   "toc_cell": false,
   "toc_position": {},
   "toc_section_display": true,
   "toc_window_display": false
  },
  "varInspector": {
   "cols": {
    "lenName": 16,
    "lenType": 16,
    "lenVar": 40
   },
   "kernels_config": {
    "python": {
     "delete_cmd_postfix": "",
     "delete_cmd_prefix": "del ",
     "library": "var_list.py",
     "varRefreshCmd": "print(var_dic_list())"
    },
    "r": {
     "delete_cmd_postfix": ") ",
     "delete_cmd_prefix": "rm(",
     "library": "var_list.r",
     "varRefreshCmd": "cat(var_dic_list()) "
    }
   },
   "types_to_exclude": [
    "module",
    "function",
    "builtin_function_or_method",
    "instance",
    "_Feature"
   ],
   "window_display": false
  }
 },
 "nbformat": 4,
 "nbformat_minor": 2
}
